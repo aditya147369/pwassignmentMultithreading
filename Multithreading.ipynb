{
 "cells": [
  {
   "cell_type": "markdown",
   "id": "d69bfeca-29c3-4050-b3a2-16e71e19d1ac",
   "metadata": {},
   "source": [
    "Q1) What is multithreading in python? hy is it used? Name the module used to handle threads in python"
   ]
  },
  {
   "cell_type": "markdown",
   "id": "02b3afcd-7f93-4485-8cb0-14fa83d4343d",
   "metadata": {},
   "source": [
    "Ans - Multithreading in Python empowers a program to execute multiple threads concurrently within a single process. A thread, a lightweight unit of execution, shares the same memory space and resources with other threads within its process, facilitating easier communication and data sharing compared to separate processes.\n",
    "\n",
    "The primary reason for employing multithreading in Python is to enhance the responsiveness and performance of applications. By breaking down tasks into multiple threads, a program can remain responsive to user input or carry out other tasks while awaiting the completion of time-consuming operations like network requests or file input/output (I/O). Furthermore, multithreading can harness the power of multi-core processors by executing threads in parallel, thereby boosting performance.\n",
    "\n",
    "The threading module is the go-to tool for handling threads in Python. It offers a high-level interface for thread creation and management, encompassing functions for starting and stopping threads, coordinating access to shared resources, and facilitating communication between threads."
   ]
  },
  {
   "cell_type": "markdown",
   "id": "0b63273c-1dcd-43fa-a6b2-63b5c7b33c55",
   "metadata": {},
   "source": [
    "Q2).hy threading module used? rite the use of the following functions\n",
    "1] activeCount\n",
    "2] currentThread\n",
    "3]  enumerate"
   ]
  },
  {
   "cell_type": "markdown",
   "id": "213ce3c4-a631-4d86-b96f-e71b57d3ac08",
   "metadata": {},
   "source": [
    "Ans - The threading module is used in Python to implement multithreading. It provides a way to create and manage threads within a single process, enabling concurrent execution of tasks and potentially improving performance.\n",
    "\n",
    "1] activeCount()\n",
    "\n",
    "Use case:\n",
    "\n",
    "a. Monitoring the number of active threads in your application to assess resource usage and identify potential issues like thread leaks or excessive thread creation.\n",
    "\n",
    "b. Debugging and troubleshooting multithreaded code by tracking the creation and termination of threads.\n",
    "\n",
    "2] currentThread()\n",
    "\n",
    "Use case:\n",
    "\n",
    "a. Identifying the current thread within a multithreaded program, which can be helpful for debugging, logging, or accessing thread-specific data.\n",
    "\n",
    "b. Comparing the current thread to other Thread objects to determine if they are the same thread or different threads.\n",
    "\n",
    "3] enumerate()\n",
    "\n",
    "Use case:\n",
    "\n",
    "a. Obtaining a list of active threads in your application for monitoring or management purposes.\n",
    "\n",
    "b. Iterating over all threads to perform operations like checking their status, setting attributes, or signaling them to stop."
   ]
  },
  {
   "cell_type": "markdown",
   "id": "0d468067-9cb9-43d0-86b3-5e3224bc2e62",
   "metadata": {},
   "source": [
    "Q3] Explain the following functions ( run\n",
    " start\n",
    " join\n",
    "' isAlive)"
   ]
  },
  {
   "cell_type": "markdown",
   "id": "64c57d9e-5729-4a21-bdd6-794c6ed562a9",
   "metadata": {},
   "source": [
    "Ans - 1] run(): Defines the code that a thread executes when started. You can either subclass Thread and override run() or provide a target function to Thread.\n",
    "\n",
    "2] start(): Initiates a thread's execution. Remember to call it only once per thread.\n",
    "\n",
    "3] join(): Makes one thread wait for another to finish. It can optionally take a timeout argument.\n",
    "\n",
    "4] isAlive(): Checks if a thread is currently running (True) or not (False)."
   ]
  },
  {
   "cell_type": "markdown",
   "id": "f2f3e0ca-8415-45e9-9d7b-3caced3aa7e9",
   "metadata": {},
   "source": [
    "Q4. rite a python program to create two threads. Thread one must print the list of squares and thread\n",
    "two must print the list of cubes"
   ]
  },
  {
   "cell_type": "code",
   "execution_count": 5,
   "id": "e454aeac-6f42-40c4-8f6c-cdb9b8882123",
   "metadata": {},
   "outputs": [
    {
     "name": "stdout",
     "output_type": "stream",
     "text": [
      "Square of 1: 1\n",
      "Square of 2: 4\n",
      "Square of 3: 9\n",
      "Square of 4: 16\n",
      "Square of 5: 25\n",
      "Cube of 1: 1\n",
      "Cube of 2: 8\n",
      "Cube of 3: 27\n",
      "Cube of 4: 64\n",
      "Cube of 5: 125\n",
      "Both threads finished executing.\n"
     ]
    }
   ],
   "source": [
    "import threading\n",
    "\n",
    "def print_squares(numbers):\n",
    "    for num in numbers:\n",
    "        print(f\"Square of {num}: {num * num}\")\n",
    "\n",
    "def print_cubes(numbers):\n",
    "    for num in numbers:\n",
    "        print(f\"Cube of {num}: {num * num * num}\")\n",
    "\n",
    "if __name__ == \"__main__\":\n",
    "    numbers = [1, 2, 3, 4, 5]  \n",
    "\n",
    "    square_thread = threading.Thread(target=print_squares, args=(numbers,))\n",
    "    cube_thread = threading.Thread(target=print_cubes, args=(numbers,))\n",
    "\n",
    "    square_thread.start()\n",
    "    cube_thread.start()\n",
    "\n",
    "    square_thread.join()\n",
    "    cube_thread.join()\n",
    "\n",
    "    print(\"Both threads finished executing.\")"
   ]
  },
  {
   "cell_type": "markdown",
   "id": "76017fd9-ab3e-4372-b83a-376ef9bb3e38",
   "metadata": {},
   "source": [
    "Q5. State advantages and disadvantages of multithreading"
   ]
  },
  {
   "cell_type": "markdown",
   "id": "aaec67f1-b027-4372-9f74-50206d6a19aa",
   "metadata": {},
   "source": [
    "Ans - Advantages:\n",
    "\n",
    "1] Enhanced Responsiveness: Applications can remain responsive to user input or other events even while executing time-consuming tasks in the background. This is particularly beneficial for GUI applications or those requiring constant interaction.\n",
    "\n",
    "2] Improved Performance: In scenarios where tasks can be parallelized, multithreading can significantly improve performance, especially on systems with multiple cores or processors. This is because threads can execute concurrently, utilizing the available hardware resources more efficiently.\n",
    "\n",
    "3] Resource Sharing: Threads within the same process share memory and resources, facilitating easy communication and data exchange compared \n",
    "\n",
    "Disadvantages:\n",
    "\n",
    "1] Increased Complexity: Multithreaded code can be more complex to design and debug due to potential issues like race conditions (concurrent access to shared data), deadlocks (threads waiting for each other indefinitely), and other synchronization problems.\n",
    "\n",
    "2] Potential Overhead: Creating and managing threads incur some overhead, including memory consumption for thread stacks and context switching costs when the operating system switches between threads. This overhead can become significant if a large number of threads are created.\n",
    "\n",
    "3] GIL Limitation (CPython): In CPython (the reference implementation of Python), the Global Interpreter Lock (GIL) limits the true parallelism of threads. Only one thread can execute Python bytecode at a time, even on multi-core systems. This can negate some of the performance benefits of multithreading for CPU-bound tasks."
   ]
  },
  {
   "cell_type": "markdown",
   "id": "2362911f-da90-40ef-b4d0-61c406b373f7",
   "metadata": {},
   "source": [
    "Q6. Explain deadlocks and race conditions."
   ]
  },
  {
   "cell_type": "markdown",
   "id": "d7108196-a4b7-47db-a6db-ea2290792991",
   "metadata": {},
   "source": [
    "Ans - 1] A deadlock occurs when two or more threads are blocked, each waiting for a resource held by another thread in the group. This creates a circular dependency where no thread can proceed, resulting in a program freeze. Imagine two people simultaneously trying to pass through a narrow doorway; if they both refuse to give way, they'll remain stuck.   \n",
    "\n",
    "2] A race condition happens when the behavior of a program depends on the unpredictable order in which threads execute. If multiple threads access and modify shared data concurrently without proper synchronization, the final outcome can be inconsistent or incorrect. This is akin to two people trying to edit the same document simultaneously without coordination, leading to a garbled mess"
   ]
  },
  {
   "cell_type": "code",
   "execution_count": null,
   "id": "b8289e9c-04b7-4fc0-8133-b2e94ac833c3",
   "metadata": {},
   "outputs": [],
   "source": []
  },
  {
   "cell_type": "code",
   "execution_count": null,
   "id": "1897cea3-1138-4fd3-af96-47cdeb389217",
   "metadata": {},
   "outputs": [],
   "source": []
  }
 ],
 "metadata": {
  "kernelspec": {
   "display_name": "Python 3 (ipykernel)",
   "language": "python",
   "name": "python3"
  },
  "language_info": {
   "codemirror_mode": {
    "name": "ipython",
    "version": 3
   },
   "file_extension": ".py",
   "mimetype": "text/x-python",
   "name": "python",
   "nbconvert_exporter": "python",
   "pygments_lexer": "ipython3",
   "version": "3.10.8"
  }
 },
 "nbformat": 4,
 "nbformat_minor": 5
}
